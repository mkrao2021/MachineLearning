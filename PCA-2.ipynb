{
  "nbformat": 4,
  "nbformat_minor": 0,
  "metadata": {
    "language_info": {
      "codemirror_mode": {
        "name": "ipython",
        "version": 3
      },
      "file_extension": ".py",
      "mimetype": "text/x-python",
      "name": "python",
      "nbconvert_exporter": "python",
      "pygments_lexer": "ipython3",
      "version": "3.7.9-final"
    },
    "orig_nbformat": 2,
    "kernelspec": {
      "name": "python3",
      "display_name": "Python 3.7.9 64-bit ('SUSHI': conda)",
      "metadata": {
        "interpreter": {
          "hash": "82c7291e38b74b071fa4ec1726e805bc06f8b2e8b468136f7f887f7861bda7b9"
        }
      }
    },
    "colab": {
      "name": "PCA.ipynb",
      "provenance": []
    }
  },
  "cells": [
    {
      "cell_type": "markdown",
      "metadata": {
        "id": "s--tFT-WbldG"
      },
      "source": [
        "# Principal Component Analysis\n",
        "PCA is used to decompose a multivariate dataset in a set of successive orthogonal components that explain a maximum amount of the variance.\n",
        "\n",
        "In this homework, we will use scikit-learn to explore the components, explained variance and noise filtering of PCA.\n"
      ]
    },
    {
      "cell_type": "markdown",
      "metadata": {
        "id": "2-i0o8VvbldI"
      },
      "source": [
        "### Set up environments"
      ]
    },
    {
      "cell_type": "code",
      "metadata": {
        "id": "qhJWDPIcbldJ"
      },
      "source": [
        "import numpy as np\n",
        "import matplotlib.pyplot as plt\n",
        "import pandas as pd\n",
        "from sklearn.decomposition import PCA"
      ],
      "execution_count": 19,
      "outputs": []
    },
    {
      "cell_type": "markdown",
      "metadata": {
        "id": "SH0udqlGbldJ"
      },
      "source": [
        "## PCA as noise filtering on digits dataset\n",
        "PCA can be used as a filtering approach for noisy data.\n",
        "\n",
        "The idea is this: any components with variance much larger than the effect of the noise should be relatively unaffected by the noise.\n",
        "\n",
        "So if you reconstruct the data using just the largest subset of principal components, you should be preferentially keeping the signal and throwing out the noise.\n",
        "\n",
        "In this section, we will explore the noise filtering on the digits dataset from scikit-learn."
      ]
    },
    {
      "cell_type": "markdown",
      "metadata": {
        "id": "on729x53bldJ"
      },
      "source": [
        "### Load the digits dataset from scikit-learn\n",
        "The digits dataset here is a little different from the MNIST dataset used in the previous homeworks.\n",
        "\n",
        "It still has 10 classes from 0 - 9, but each image is only 8 * 8. Each class has around 180 samples and totally it has 1797 samples.\n"
      ]
    },
    {
      "cell_type": "code",
      "metadata": {
        "colab": {
          "base_uri": "https://localhost:8080/"
        },
        "id": "5GRRV3SwbldK",
        "outputId": "5016fa84-dea4-44e7-f192-6325d80bbaea"
      },
      "source": [
        "from sklearn.datasets import load_digits\n",
        "digits = load_digits()\n",
        "digits.data.shape"
      ],
      "execution_count": 20,
      "outputs": [
        {
          "output_type": "execute_result",
          "data": {
            "text/plain": [
              "(1797, 64)"
            ]
          },
          "metadata": {
            "tags": []
          },
          "execution_count": 20
        }
      ]
    },
    {
      "cell_type": "markdown",
      "metadata": {
        "id": "1Hwv0Wo7bldK"
      },
      "source": [
        "### Define the plot_digits function to plot several of the input noise-free data"
      ]
    },
    {
      "cell_type": "code",
      "metadata": {
        "colab": {
          "base_uri": "https://localhost:8080/",
          "height": 252
        },
        "id": "2seq2RBkbldK",
        "outputId": "3780c87e-08f0-4642-f19e-bec0310d366e"
      },
      "source": [
        "def plot_digits(data):\n",
        "    fig, axes = plt.subplots(4, 10, figsize=(10, 4),\n",
        "                             subplot_kw={'xticks':[], 'yticks':[]},\n",
        "                             gridspec_kw=dict(hspace=0.1, wspace=0.1))\n",
        "    for i, ax in enumerate(axes.flat):\n",
        "        ax.imshow(data[i].reshape(8, 8),\n",
        "                  cmap='binary', interpolation='nearest',\n",
        "                  clim=(0, 16))\n",
        "plot_digits(digits.data)"
      ],
      "execution_count": 21,
      "outputs": [
        {
          "output_type": "display_data",
          "data": {
            "image/png": "[encoded data removed]",
            "text/plain": [
              "<Figure size 720x288 with 40 Axes>"
            ]
          },
          "metadata": {
            "tags": []
          }
        }
      ]
    },
    {
      "cell_type": "markdown",
      "metadata": {
        "id": "Ltx1MZE2bldL"
      },
      "source": [
        "### Apply noise filtering\n",
        "Now let's try to do the noise filtering as followings:\n",
        "\n",
        "  1. Add some random noise to create a noisy dataset, and re-plot the digits.\n",
        "\n",
        "  2. Train a PCA on the noisy data with the projection perserve 50% of the variance.\n",
        "\n",
        "  3. Use the inverse of the transform to reconstruct the filtered digits.\n",
        "\n",
        "Helpful Link: https://scikit-learn.org/stable/modules/generated/sklearn.decomposition.PCA.html#sklearn.decomposition.PCA\n",
        "\n",
        "This signal preserving/noise filtering property makes PCA a very useful feature selection routine.\n",
        "\n",
        "For example, rather than training a classifier on very high-dimensional data, you might instead train the classifier on the lower-dimensional representation, which will automatically serve to filter out random noise in the inputs."
      ]
    },
    {
      "cell_type": "markdown",
      "metadata": {
        "id": "wxTtJzsjbldL"
      },
      "source": [
        "### (TODO) Add some random noise to create a noisy dataset, and re-plot the digits"
      ]
    },
    {
      "cell_type": "code",
      "metadata": {
        "colab": {
          "base_uri": "https://localhost:8080/",
          "height": 252
        },
        "id": "bFpZq5FnbldM",
        "outputId": "2a771728-26b4-4a55-ff12-b50c04a96c04"
      },
      "source": [
        "# Code goes below\n",
        "np.random.seed(42)\n",
        "noisy = np.random.normal(digits.data, 4)\n",
        "plot_digits(noisy)"
      ],
      "execution_count": 22,
      "outputs": [
        {
          "output_type": "display_data",
          "data": {
            "image/png": "[encoded data removed]",
            "text/plain": [
              "<Figure size 720x288 with 40 Axes>"
            ]
          },
          "metadata": {
            "tags": []
          }
        }
      ]
    },
    {
      "cell_type": "markdown",
      "metadata": {
        "id": "gwOjiuO8bldM"
      },
      "source": [
        "### (TODO) Train a PCA on the noisy data with the projection perserve 50% of the variance"
      ]
    },
    {
      "cell_type": "code",
      "metadata": {
        "colab": {
          "base_uri": "https://localhost:8080/"
        },
        "id": "7yPd0pkdbldM",
        "outputId": "7c3f81e1-d953-45a7-e973-1db1c82368b9"
      },
      "source": [
        "# Code goes below\n",
        "pca = PCA(0.50).fit(noisy)\n",
        "pca.n_components_"
      ],
      "execution_count": 23,
      "outputs": [
        {
          "output_type": "execute_result",
          "data": {
            "text/plain": [
              "12"
            ]
          },
          "metadata": {
            "tags": []
          },
          "execution_count": 23
        }
      ]
    },
    {
      "cell_type": "markdown",
      "metadata": {
        "id": "Qpl3jOCRbldN"
      },
      "source": [
        "### (TODO) Use the inverse of the transform to reconstruct the filtered digits"
      ]
    },
    {
      "cell_type": "code",
      "metadata": {
        "colab": {
          "base_uri": "https://localhost:8080/",
          "height": 252
        },
        "id": "aqls3LcVbldO",
        "outputId": "ee31847a-c8e8-4b8a-d282-38c3b37c7065"
      },
      "source": [
        "# Code goes below\n",
        "components = pca.transform(noisy)\n",
        "filtered = pca.inverse_transform(components)\n",
        "plot_digits(filtered)"
      ],
      "execution_count": 24,
      "outputs": [
        {
          "output_type": "display_data",
          "data": {
            "image/png": "[encoded data removed]",
            "text/plain": [
              "<Figure size 720x288 with 40 Axes>"
            ]
          },
          "metadata": {
            "tags": []
          }
        }
      ]
    },
    {
      "cell_type": "markdown",
      "metadata": {
        "id": "229G2uV3bldO"
      },
      "source": [
        "## PCA as dimensionality reduction on california housing dataset\n",
        "Now let's switch the gear to the dimensionality reduction, which is PCA's main application.\n",
        "\n",
        "Using PCA for dimensionality reduction involves zeroing out one or more of the smallest principal components, resulting in a lower-dimensional projection of the data that preserves the maximal data variance.\n",
        "\n",
        "In this section, we will use the california housing dataset from scikit-learn."
      ]
    },
    {
      "cell_type": "markdown",
      "metadata": {
        "id": "SF9hwCq2bldO"
      },
      "source": [
        "### Load the california housing dataset from scikit-learn\n",
        "The california housing dataset has a total of 20640 samples with 8 dimensionality."
      ]
    },
    {
      "cell_type": "code",
      "metadata": {
        "colab": {
          "base_uri": "https://localhost:8080/"
        },
        "id": "USnWEgKZbldP",
        "outputId": "86f353dd-8e59-4750-8fcb-115a4e602b22"
      },
      "source": [
        "from sklearn.datasets import fetch_california_housing\n",
        "housing = fetch_california_housing()\n",
        "housing.data.shape"
      ],
      "execution_count": 27,
      "outputs": [
        {
          "output_type": "execute_result",
          "data": {
            "text/plain": [
              "(20640, 8)"
            ]
          },
          "metadata": {
            "tags": []
          },
          "execution_count": 27
        }
      ]
    },
    {
      "cell_type": "markdown",
      "metadata": {
        "id": "u24-Y8gWbldP"
      },
      "source": [
        "### Use pandas to visualize the dataset"
      ]
    },
    {
      "cell_type": "code",
      "metadata": {
        "colab": {
          "base_uri": "https://localhost:8080/",
          "height": 198
        },
        "id": "b_AxBWazbldQ",
        "outputId": "919de271-ab7e-456b-d031-eb2596255c1e"
      },
      "source": [
        "housing = fetch_california_housing(as_frame=True)\n",
        "df = pd.DataFrame(housing.data)\n",
        "df.head(5)"
      ],
      "execution_count": 28,
      "outputs": [
        {
          "output_type": "error",
          "ename": "TypeError",
          "evalue": "ignored",
          "traceback": [
            "\u001b[0;31m---------------------------------------------------------------------------\u001b[0m",
            "\u001b[0;31mTypeError\u001b[0m                                 Traceback (most recent call last)",
            "\u001b[0;32m<ipython-input-28-1a467d2de9e5>\u001b[0m in \u001b[0;36m<module>\u001b[0;34m()\u001b[0m\n\u001b[0;32m----> 1\u001b[0;31m \u001b[0mhousing\u001b[0m \u001b[0;34m=\u001b[0m \u001b[0mfetch_california_housing\u001b[0m\u001b[0;34m(\u001b[0m\u001b[0mas_frame\u001b[0m\u001b[0;34m=\u001b[0m\u001b[0;32mTrue\u001b[0m\u001b[0;34m)\u001b[0m\u001b[0;34m\u001b[0m\u001b[0;34m\u001b[0m\u001b[0m\n\u001b[0m\u001b[1;32m      2\u001b[0m \u001b[0mdf\u001b[0m \u001b[0;34m=\u001b[0m \u001b[0mpd\u001b[0m\u001b[0;34m.\u001b[0m\u001b[0mDataFrame\u001b[0m\u001b[0;34m(\u001b[0m\u001b[0mhousing\u001b[0m\u001b[0;34m.\u001b[0m\u001b[0mdata\u001b[0m\u001b[0;34m)\u001b[0m\u001b[0;34m\u001b[0m\u001b[0;34m\u001b[0m\u001b[0m\n\u001b[1;32m      3\u001b[0m \u001b[0mdf\u001b[0m\u001b[0;34m.\u001b[0m\u001b[0mhead\u001b[0m\u001b[0;34m(\u001b[0m\u001b[0;36m5\u001b[0m\u001b[0;34m)\u001b[0m\u001b[0;34m\u001b[0m\u001b[0;34m\u001b[0m\u001b[0m\n",
            "\u001b[0;31mTypeError\u001b[0m: fetch_california_housing() got an unexpected keyword argument 'as_frame'"
          ]
        }
      ]
    },
    {
      "cell_type": "markdown",
      "metadata": {
        "id": "ZyiBjZIHbldR"
      },
      "source": [
        "### Apply dimensionality reduction\n",
        "Now let's try to do the dimensionality reduction as followings:\n",
        "\n",
        "  1. Choose the number of components that can represent 99.99% of the data.\n",
        "\n",
        "  2. Visualize the first and second principal components in a scatter plot.\n",
        "\n",
        "  3. Investigate the principal components and extract possible meanings."
      ]
    },
    {
      "cell_type": "markdown",
      "metadata": {
        "id": "-MSAZyIsbldR"
      },
      "source": [
        "### (TODO) Choose the number of components that can represent 99.99% of the data"
      ]
    },
    {
      "cell_type": "code",
      "metadata": {
        "colab": {
          "base_uri": "https://localhost:8080/",
          "height": 279
        },
        "id": "41R9U-h_bldR",
        "outputId": "10157f08-9b11-4cca-fe64-a338944213c1"
      },
      "source": [
        "# Code goes below\n",
        "pca = PCA().fit(digits.data)\n",
        "plt.plot(np.cumsum(pca.explained_variance_ratio_))\n",
        "plt.xlabel('number of components')\n",
        "plt.ylabel('cumulative explained variance');"
      ],
      "execution_count": 29,
      "outputs": [
        {
          "output_type": "display_data",
          "data": {
            "image/png": "[encoded data removed]",
            "text/plain": [
              "<Figure size 432x288 with 1 Axes>"
            ]
          },
          "metadata": {
            "tags": [],
            "needs_background": "light"
          }
        }
      ]
    },
    {
      "cell_type": "markdown",
      "metadata": {
        "id": "0q7brE4LbldS"
      },
      "source": [
        "### (TODO) Visualize the first and second principal components in a scatter plot"
      ]
    },
    {
      "cell_type": "code",
      "metadata": {
        "colab": {
          "base_uri": "https://localhost:8080/",
          "height": 265
        },
        "id": "U3SaBg_KbldS",
        "outputId": "d2e03e42-e1f1-4246-b0d2-7a141a239e52"
      },
      "source": [
        "# Code goes below\n",
        "rng = np.random.RandomState(1)\n",
        "X = np.dot(rng.rand(2, 2), rng.randn(2, 200)).T\n",
        "plt.scatter(X[:, 0], X[:, 1])\n",
        "plt.axis('equal');"
      ],
      "execution_count": 30,
      "outputs": [
        {
          "output_type": "display_data",
          "data": {
            "image/png": "[encoded data removed]",
            "text/plain": [
              "<Figure size 432x288 with 1 Axes>"
            ]
          },
          "metadata": {
            "tags": [],
            "needs_background": "light"
          }
        }
      ]
    },
    {
      "cell_type": "markdown",
      "metadata": {
        "id": "4MYJMWL_bldT"
      },
      "source": [
        "### (TODO) Investigate the principal components and extract possible meanings"
      ]
    },
    {
      "cell_type": "code",
      "metadata": {
        "id": "Z7aHEG7MbldT"
      },
      "source": [
        "# Code goes below\n",
        "from sklearn.decomposition import PCA\n",
        "pca = PCA(n_components=2)\n",
        "principalComponents = pca.fit_transform(X)\n",
        "principalDf = pd.DataFrame(data = principalComponents\n",
        "             , columns = ['principal component 1', 'principal component 2'])"
      ],
      "execution_count": 33,
      "outputs": []
    },
    {
      "cell_type": "markdown",
      "metadata": {
        "id": "XJU6EoQRbldT"
      },
      "source": [
        "As the plots show, the population affects the first principal component and the house age affects the second principal component."
      ]
    }
  ]
}