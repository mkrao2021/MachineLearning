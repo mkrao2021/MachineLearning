{
  "nbformat": 4,
  "nbformat_minor": 0,
  "metadata": {
    "language_info": {
      "codemirror_mode": {
        "name": "ipython",
        "version": 3
      },
      "file_extension": ".py",
      "mimetype": "text/x-python",
      "name": "python",
      "nbconvert_exporter": "python",
      "pygments_lexer": "ipython3",
      "version": "3.7.6-final"
    },
    "orig_nbformat": 2,
    "kernelspec": {
      "name": "python3",
      "display_name": "Python 3",
      "language": "python"
    },
    "colab": {
      "name": "NNClassificationPyTorchMAYA.ipynb",
      "provenance": []
    },
    "accelerator": "GPU"
  },
  "cells": [
    {
      "cell_type": "markdown",
      "metadata": {
        "id": "dvuV53ID0XjX"
      },
      "source": [
        "## 2. Neural netowrk classification with PyTorch\n",
        "Now we switch the gear to the PyTorch package. The goal in this section is to do classification on the MNIST dataset using PyTorch package. \n",
        "\n",
        "The MNIST dataset contains handwirtten digit from 0 to 9. By training the neural netowrk, we want to eventually predict the input digit image belongs to what label between 0 to 9. \n",
        "\n",
        "Your task in this section is to build the neural netowrk model by yourself and see how the model perform."
      ]
    },
    {
      "cell_type": "markdown",
      "metadata": {
        "id": "W9Vf6O7b0XjZ"
      },
      "source": [
        "### Set up the environment and load the data"
      ]
    },
    {
      "cell_type": "code",
      "metadata": {
        "colab": {
          "base_uri": "https://localhost:8080/",
          "height": 172
        },
        "id": "RAlZJgM50XjZ",
        "outputId": "74401596-7d36-438d-b169-364d166c12a6"
      },
      "source": [
        "# Load PyTorch library\n",
        "import torch\n",
        "import torchvision\n",
        "import torchvision.transforms as transforms\n",
        "\n",
        "# Define validation dataset ratio\n",
        "valid_ratio = 0.3\n",
        "\n",
        "# Define the MNIST training and validation sets, and possible transforms to be applied. Optional augmentation can be done within the transform.\n",
        "transform = transforms.Compose(\n",
        "    [\n",
        "    # transforms.RandomRotation(degrees=30),\n",
        "     transforms.ToTensor(),\n",
        "     transforms.Normalize((0.1307,), (0.3081,))])\n",
        "\n",
        "train_valid_dataset = torchvision.datasets.MNIST(root='./data', train=True,\n",
        "                                        download=True, transform=transform)\n",
        "nb_train = int((1.0 - valid_ratio) * len(train_valid_dataset))\n",
        "nb_valid =  int(valid_ratio * len(train_valid_dataset))\n",
        "train_dataset, valid_dataset = torch.utils.data.dataset.random_split(train_valid_dataset, [nb_train, nb_valid])\n",
        "trainloader = torch.utils.data.DataLoader(train_dataset, batch_size=500,\n",
        "                                          shuffle=True)\n",
        "validloader = torch.utils.data.DataLoader(valid_dataset, batch_size=500,\n",
        "                                          shuffle=True)\n",
        "\n",
        "classes = ('0', '1', '2', '3',\n",
        "           '4', '5', '6', '7', '8', '9')\n",
        "\n",
        "# Visualize the MNIST dataset\n",
        "import matplotlib.pyplot as plt\n",
        "import numpy as np\n",
        "\n",
        "# functions to show an image\n",
        "def imshow(img):\n",
        "    img = img / 2 + 0.5     # unnormalize\n",
        "    npimg = img.numpy()\n",
        "    plt.imshow(np.transpose(npimg, (1, 2, 0)))\n",
        "    plt.show()\n",
        "\n",
        "# get some random training images\n",
        "dataiter = iter(trainloader)\n",
        "images, labels = dataiter.next()\n",
        "\n",
        "# show images\n",
        "imshow(torchvision.utils.make_grid(images[:4,]))\n",
        "# print labels\n",
        "print(' '.join('%5s' % classes[labels[j]] for j in range(4)))"
      ],
      "execution_count": 14,
      "outputs": [
        {
          "output_type": "stream",
          "text": [
            "Clipping input data to the valid range for imshow with RGB data ([0..1] for floats or [0..255] for integers).\n"
          ],
          "name": "stderr"
        },
        {
          "output_type": "display_data",
          "data": {
            "image/png": "[encoded data removed]",
            "text/plain": [
              "<Figure size 432x288 with 1 Axes>"
            ]
          },
          "metadata": {
            "tags": [],
            "needs_background": "light"
          }
        },
        {
          "output_type": "stream",
          "text": [
            "    2     4     6     1\n"
          ],
          "name": "stdout"
        }
      ]
    },
    {
      "cell_type": "markdown",
      "metadata": {
        "id": "xGJoL5ib0Xjb"
      },
      "source": [
        "### Construct the neural network (Your turn)\n",
        "helpful link for adding layers: https://pytorch.org/docs/stable/nn.html#\n",
        "\n",
        "helpful link for adding functions: https://pytorch.org/docs/stable/nn.functional.html#\n",
        "\n",
        "helpful link for building the neural network: https://pytorch.org/tutorials/recipes/recipes/defining_a_neural_network.html"
      ]
    },
    {
      "cell_type": "code",
      "metadata": {
        "id": "660I149Y0Xjb"
      },
      "source": [
        "import torch.nn as nn\n",
        "import torch.nn.functional as F\n",
        "\n",
        "class Net(nn.Module):\n",
        "    def __init__(self):\n",
        "      super(Net, self).__init__()\n",
        "      self.conv1 = nn.Conv2d(1, 32, 3, 1)\n",
        "      self.conv2 = nn.Conv2d(32, 64, 3, 1)\n",
        "      self.dropout1 = nn.Dropout2d(0.25)\n",
        "      self.dropout2 = nn.Dropout2d(0.5)\n",
        "      self.fc1 = nn.Linear(9216, 128)\n",
        "      self.fc2 = nn.Linear(128, 10)\n",
        "\n",
        "    # x represents our data\n",
        "    def forward(self, x):\n",
        "      # Pass data through conv1\n",
        "      x = self.conv1(x)\n",
        "      # Use the rectified-linear activation function over x\n",
        "      x = F.relu(x)\n",
        "\n",
        "      x = self.conv2(x)\n",
        "      x = F.relu(x)\n",
        "\n",
        "      # Run max pooling over x\n",
        "      x = F.max_pool2d(x, 2)\n",
        "      # Pass data through dropout1\n",
        "      x = self.dropout1(x)\n",
        "      # Flatten x with start_dim=1\n",
        "      x = torch.flatten(x, 1)\n",
        "      # Pass data through fc1\n",
        "      x = self.fc1(x)\n",
        "      x = F.relu(x)\n",
        "      x = self.dropout2(x)\n",
        "      x = self.fc2(x)\n",
        "\n",
        "      # Apply softmax to x\n",
        "      output = F.log_softmax(x, dim=1)\n",
        "      return output"
      ],
      "execution_count": 15,
      "outputs": []
    },
    {
      "cell_type": "markdown",
      "metadata": {
        "id": "DvaeP2ow0Xjc"
      },
      "source": [
        "### Train the model (Your turn)"
      ]
    },
    {
      "cell_type": "code",
      "metadata": {
        "id": "GmzUkLfp0Xjc",
        "colab": {
          "base_uri": "https://localhost:8080/"
        },
        "outputId": "dad51540-774a-429c-bcda-89b1161a683a"
      },
      "source": [
        "# Instantiate the NN and print out the number of parameters\n",
        "net = Net()\n",
        "print(sum([p.numel() for p in net.parameters()]))\n",
        "\n",
        "# Define the loss function and the optimizer\n",
        "import torch.optim as optim\n",
        "import torch.nn as nn\n",
        "import torch.nn.functional as F\n",
        "\n",
        "\n",
        "criterion = nn.CrossEntropyLoss()\n",
        "optimizer = optim.Adam(net.parameters(),lr=0.01)\n",
        "\n",
        "# Select the device to train the NN! \"cuda:0\" means the first GPU device.\n",
        "device = torch.device(\"cuda:0\" if torch.cuda.is_available() else \"cpu\")\n",
        "print(device)\n",
        "net.to(device)\n",
        "\n",
        "# Train the NN and store the best model based on the validation loss.\n",
        "import time\n",
        "\n",
        "start_time = time.time()\n",
        "best_loss = np.float('inf')\n",
        "for epoch in range(10):  # loop over the dataset multiple times\n",
        "\n",
        "    running_loss = 0.0\n",
        "    for i, data in enumerate(trainloader, 0):\n",
        "        # get the inputs; data is a list of [inputs, labels]\n",
        "        inputs, labels = data[0].to(device), data[1].to(device)\n",
        "\n",
        "        # zero the parameter gradients\n",
        "        optimizer.zero_grad()\n",
        "\n",
        "        # forward + backward + optimize\n",
        "        outputs = net(inputs)\n",
        "        loss = criterion(outputs, labels)\n",
        "        loss.backward()\n",
        "        optimizer.step()\n",
        "\n",
        "        # print statistics\n",
        "        running_loss += loss.item()\n",
        "    epoch_loss = running_loss / (i+1)\n",
        "    print(\"Epoch: \", epoch, \" train loss: \", '%.3f' % epoch_loss)\n",
        "    with torch.no_grad(): \n",
        "      running_loss = 0.0\n",
        "      for i, data in enumerate(validloader, 0):\n",
        "          # get the inputs; data is a list of [inputs, labels]\n",
        "          inputs, labels = data[0].to(device), data[1].to(device)\n",
        "\n",
        "          # forward \n",
        "          outputs = net(inputs)\n",
        "          loss = criterion(outputs, labels)\n",
        "\n",
        "          # print statistics\n",
        "          running_loss += loss.item()\n",
        "      epoch_loss = running_loss / (i+1)\n",
        "      print(\"Epoch: \", epoch, \" validation loss: \", '%.3f' % epoch_loss)\n",
        "      if epoch_loss < best_loss:\n",
        "        best_loss = epoch_loss\n",
        "\n",
        "time_elap = (time.time() - start_time) // 60\n",
        "print('Finished Training in %d mins' % time_elap)"
      ],
      "execution_count": 16,
      "outputs": [
        {
          "output_type": "stream",
          "text": [
            "1199882\n",
            "cuda:0\n",
            "Epoch:  0  train loss:  0.659\n",
            "Epoch:  0  validation loss:  0.326\n",
            "Epoch:  1  train loss:  0.281\n",
            "Epoch:  1  validation loss:  0.275\n",
            "Epoch:  2  train loss:  0.249\n",
            "Epoch:  2  validation loss:  0.257\n",
            "Epoch:  3  train loss:  0.234\n",
            "Epoch:  3  validation loss:  0.255\n",
            "Epoch:  4  train loss:  0.218\n",
            "Epoch:  4  validation loss:  0.231\n",
            "Epoch:  5  train loss:  0.208\n",
            "Epoch:  5  validation loss:  0.210\n",
            "Epoch:  6  train loss:  0.200\n",
            "Epoch:  6  validation loss:  0.212\n",
            "Epoch:  7  train loss:  0.194\n",
            "Epoch:  7  validation loss:  0.228\n",
            "Epoch:  8  train loss:  0.180\n",
            "Epoch:  8  validation loss:  0.214\n",
            "Epoch:  9  train loss:  0.178\n",
            "Epoch:  9  validation loss:  0.198\n",
            "Finished Training in 1 mins\n"
          ],
          "name": "stdout"
        }
      ]
    },
    {
      "cell_type": "markdown",
      "metadata": {
        "id": "u952v6Yf0Xjd"
      },
      "source": [
        "### Generate test data\n"
      ]
    },
    {
      "cell_type": "code",
      "metadata": {
        "id": "-oE1WFhM0Xje",
        "colab": {
          "base_uri": "https://localhost:8080/",
          "height": 172
        },
        "outputId": "2eb53896-a9c5-462d-e073-ab2d4d62558a"
      },
      "source": [
        "# Define the test dataset\n",
        "transform = transforms.Compose(\n",
        "     [transforms.ToTensor(),\n",
        "     transforms.Normalize((0.1307,), (0.3081,))])\n",
        "testset = torchvision.datasets.MNIST(root='./data', train=False,\n",
        "                                       download=True, transform=transform)\n",
        "testloader = torch.utils.data.DataLoader(testset, batch_size=4,\n",
        "                                         shuffle=False, num_workers=1)\n",
        "\n",
        "# Visualize the test dataset\n",
        "import matplotlib.pyplot as plt\n",
        "import numpy as np\n",
        "\n",
        "def imshow(img):\n",
        "    img = img / 2 + 0.5     # unnormalize\n",
        "    npimg = img.numpy()\n",
        "    plt.imshow(np.transpose(npimg, (1, 2, 0)))\n",
        "    plt.show()\n",
        "    \n",
        "dataiter = iter(testloader)\n",
        "images, labels = dataiter.next()\n",
        "\n",
        "# print images\n",
        "imshow(torchvision.utils.make_grid(images))\n",
        "print('GroundTruth: ', ' '.join('%5s' % classes[labels[j]] for j in range(4)))"
      ],
      "execution_count": 17,
      "outputs": [
        {
          "output_type": "stream",
          "text": [
            "Clipping input data to the valid range for imshow with RGB data ([0..1] for floats or [0..255] for integers).\n"
          ],
          "name": "stderr"
        },
        {
          "output_type": "display_data",
          "data": {
            "image/png": "[encoded data removed]",
            "text/plain": [
              "<Figure size 432x288 with 1 Axes>"
            ]
          },
          "metadata": {
            "tags": [],
            "needs_background": "light"
          }
        },
        {
          "output_type": "stream",
          "text": [
            "GroundTruth:      7     2     1     0\n"
          ],
          "name": "stdout"
        }
      ]
    },
    {
      "cell_type": "markdown",
      "metadata": {
        "id": "QaDW6xY60Xje"
      },
      "source": [
        "### Make prediction"
      ]
    },
    {
      "cell_type": "code",
      "metadata": {
        "id": "LGTsyl0E0Xjf",
        "colab": {
          "base_uri": "https://localhost:8080/"
        },
        "outputId": "61cfff9a-90bd-4a37-d12e-f4d877c26432"
      },
      "source": [
        "# Get the predictions for the first 4 images in the test dataset.\n",
        "with torch.no_grad():\n",
        "  outputs = net(images.to(device))\n",
        "  _, predicted = torch.max(outputs, 1)\n",
        "\n",
        "print('Predicted: ', ' '.join('%5s' % classes[predicted[j]]\n",
        "                              for j in range(4)))\n",
        "        \n",
        "# Infer on the whole test dataset\n",
        "testloader = torch.utils.data.DataLoader(testset, batch_size=200,\n",
        "                                         shuffle=False, num_workers=1)\n",
        "correct = 0\n",
        "total = 0\n",
        "with torch.no_grad():\n",
        "    for data in testloader:\n",
        "        images, labels = data\n",
        "        outputs = net(images.to(device))\n",
        "        _, predicted = torch.max(outputs.data, 1)\n",
        "        total += labels.size(0)\n",
        "        correct += (predicted == labels.to(device)).sum().item()\n",
        "\n",
        "print('Accuracy of the network on the 10000 test images: %.3F %%' % (\n",
        "    100 * correct / total))"
      ],
      "execution_count": 18,
      "outputs": [
        {
          "output_type": "stream",
          "text": [
            "Predicted:      7     2     1     0\n",
            "Accuracy of the network on the 10000 test images: 93.730 %\n"
          ],
          "name": "stdout"
        }
      ]
    }
  ]
}