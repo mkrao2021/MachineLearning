{
  "nbformat": 4,
  "nbformat_minor": 0,
  "metadata": {
    "colab": {
      "name": "CNNClassificationMAYA.ipynb",
      "provenance": [],
      "collapsed_sections": []
    },
    "kernelspec": {
      "name": "python3",
      "display_name": "Python 3",
      "language": "python"
    },
    "accelerator": "GPU"
  },
  "cells": [
    {
      "cell_type": "markdown",
      "metadata": {
        "id": "Yq4eBp-xQThN"
      },
      "source": [
        "# Convolutional Neural Network (CNN) Classification\n",
        "Convolutional Neural Network is a class of deep neural netowrks that are commonly applied to analyzing visual imagery. In this notebook, we are going to do a classification over the CIFAR-10 dataset using the CNN model. To do the classification, let's take one step at a time!\n",
        "\n",
        "1. We are going to first construct the CNN model by filling out the correct dimensions of the CNN layers. After that, try to play with the paramaters of the convolutional layers, the pooling layers, the activational layers and the fully connected layers to see the performance change on the test set's accuracy. Our baseline CNN model has around 60% accuracy on the test set.\n",
        "\n",
        "2. Now that we have our baseline model, let's try to improve our model.\n",
        "\n",
        "    a) Learning rate (LR) and Optimizer: Adam or SGD:\n",
        "\n",
        "            Try the Adam and SGD optimizers and find a proper LR so that you have a better performance on accuracy. \n",
        "        \n",
        "    b) Avoid Overfitting: Early stopping strategy:\n",
        "\n",
        "            Try to come up with the python implementation of an early stopping strategy to avoid overfitting.\n",
        "\n",
        "    c) Data augmentation:\n",
        "\n",
        "            Try to add some transformation on the dataset to improve the model's performance on accuracy.\n",
        "            \n"
      ]
    },
    {
      "cell_type": "markdown",
      "metadata": {
        "id": "yp5Nn7lzV3J6"
      },
      "source": [
        "## Load pytorch library"
      ]
    },
    {
      "cell_type": "code",
      "metadata": {
        "id": "sZzTc_qcr0ge"
      },
      "source": [
        "import torch\n",
        "import torchvision\n",
        "import torchvision.transforms as transforms\n"
      ],
      "execution_count": 165,
      "outputs": []
    },
    {
      "cell_type": "markdown",
      "metadata": {
        "id": "KtysNYMHV-XR"
      },
      "source": [
        "## Define validation dataset ratio"
      ]
    },
    {
      "cell_type": "code",
      "metadata": {
        "id": "yO2LXvudAog6"
      },
      "source": [
        "\n",
        "valid_ratio = 0.3"
      ],
      "execution_count": 166,
      "outputs": []
    },
    {
      "cell_type": "markdown",
      "metadata": {
        "id": "m77sHXmJWHfx"
      },
      "source": [
        "## Define the CIFAR-10 training and validation sets, and possible transforms to be applied. Optional augmentation can be done within the transform (TODO #2.c)\n",
        "Data augmentation is a good way to enlarge the dataset so that the network trained becomes more robust and achieves better testing accuracy. Data augmentation, in short, is a way that takes a transform, such as rotation, flipping, scale, etc. to the data point to add more artificial created data points to the training set. \n",
        "\n",
        "In this section, try to add some data augmentation on the original dataset. You can start by uncomment the augmentation below.\n",
        "\n",
        "Helpful link for augmentation methods by PyTorch: \n",
        "\n",
        "https://pytorch.org/docs/stable/torchvision/transforms.html\n",
        "\n",
        "Helpful readings on augmentation: (optional)\n",
        "\n",
        "1. https://nanonets.com/blog/data-augmentation-how-to-use-deep-learning-when-you-have-limited-data-part-2/\n",
        "\n",
        "2. https://www.aiworkbox.com/lessons/augment-the-cifar10-dataset-using-the-randomhorizontalflip-and-randomcrop-transforms\n",
        "\n"
      ]
    },
    {
      "cell_type": "code",
      "metadata": {
        "id": "JNDByYIhr4TU",
        "colab": {
          "base_uri": "https://localhost:8080/"
        },
        "outputId": "87ea9094-c0b5-4b60-b5e9-84c5a48a996f"
      },
      "source": [
        "transform = transforms.Compose(\n",
        "    [\n",
        "     # define your data augmentation HERE. You can start by uncomment the following line\n",
        "     \n",
        "       #transforms.RandomRotation(10),  \n",
        "        transforms.RandomAffine(0,shear=10,scale=(0.8,1.2)),\n",
        "    #transforms.RandomHorizontalFlip(),\n",
        "     transforms.ToTensor(),\n",
        "     transforms.Normalize((0.5, 0.5, 0.5), (0.5, 0.5, 0.5))])\n",
        "\n",
        "# No need to change anything below\n",
        "train_valid_dataset = torchvision.datasets.CIFAR10(root='./data', train=True,\n",
        "                                        download=True, transform=transform)\n",
        "nb_train = int((1.0 - valid_ratio) * len(train_valid_dataset))\n",
        "nb_valid =  int(valid_ratio * len(train_valid_dataset))\n",
        "train_dataset, valid_dataset = torch.utils.data.dataset.random_split(train_valid_dataset, [nb_train, nb_valid])\n",
        "trainloader = torch.utils.data.DataLoader(train_dataset, batch_size=500,\n",
        "                                          shuffle=True)\n",
        "validloader = torch.utils.data.DataLoader(valid_dataset, batch_size=500,\n",
        "                                          shuffle=True)\n",
        "\n",
        "classes = ('plane', 'car', 'bird', 'cat',\n",
        "           'deer', 'dog', 'frog', 'horse', 'ship', 'truck')"
      ],
      "execution_count": 167,
      "outputs": [
        {
          "output_type": "stream",
          "text": [
            "Files already downloaded and verified\n"
          ],
          "name": "stdout"
        }
      ]
    },
    {
      "cell_type": "markdown",
      "metadata": {
        "id": "bEynLBaxWrnQ"
      },
      "source": [
        "## Visualize the CIFAR-10 dataset."
      ]
    },
    {
      "cell_type": "code",
      "metadata": {
        "id": "EO8X36thsFKF",
        "colab": {
          "base_uri": "https://localhost:8080/",
          "height": 155
        },
        "outputId": "24da96f0-7d2d-474a-9f29-487c657b3211"
      },
      "source": [
        "import matplotlib.pyplot as plt\n",
        "import numpy as np\n",
        "\n",
        "# functions to show an image\n",
        "\n",
        "\n",
        "def imshow(img):\n",
        "    img = img / 2 + 0.5     # unnormalize\n",
        "    npimg = img.numpy()\n",
        "    plt.imshow(np.transpose(npimg, (1, 2, 0)))\n",
        "    plt.show()\n",
        "\n",
        "\n",
        "# get some random training images\n",
        "dataiter = iter(trainloader)\n",
        "images, labels = dataiter.next()\n",
        "\n",
        "# show images\n",
        "imshow(torchvision.utils.make_grid(images[:4,]))\n",
        "# print labels\n",
        "print(' '.join('%5s' % classes[labels[j]] for j in range(4)))"
      ],
      "execution_count": 168,
      "outputs": [
        {
          "output_type": "display_data",
          "data": {
            "image/png": "[encoded data removed]",
            "text/plain": [
              "<Figure size 432x288 with 1 Axes>"
            ]
          },
          "metadata": {
            "tags": [],
            "needs_background": "light"
          }
        },
        {
          "output_type": "stream",
          "text": [
            " ship  ship horse  bird\n"
          ],
          "name": "stdout"
        }
      ]
    },
    {
      "cell_type": "markdown",
      "metadata": {
        "id": "9CUKf7kcW3Rh"
      },
      "source": [
        "## Construct the CNN (TODO #1)\n",
        "We are going to first construct the CNN model by filling out the correct dimensions of the CNN layers.\n",
        "\n",
        "After that, try to play with the paramaters of the convolutional layers, the pooling layers, the activational layers and the fully connected layers to see the performance change on accuracy. \n",
        "\n",
        "Our baseline CNN model has around 60% accuracy on the test set.\n",
        "\n",
        "Please show me the four numbers the question mark locates by filling out the blank.\n",
        "\n",
        "Grading is based on if the CNN model you built is capable to be trained with the CIFAR-10 dataset so the answer for the second and last blank may vary."
      ]
    },
    {
      "cell_type": "code",
      "metadata": {
        "id": "LOsjlBUKsbTF"
      },
      "source": [
        "import torch.nn as nn\n",
        "import torch.nn.functional as F\n",
        "\n",
        "# define your CNN here, e.g. activation function: F.sigmoid or F.relu\n",
        "\n",
        "class Net(nn.Module):\n",
        "    def __init__(self):\n",
        "        super(Net, self).__init__()\n",
        "        self.conv1 = nn.Conv2d(3, 16, kernel_size=3, stride=1, padding=1)\n",
        "        self.pool = nn.MaxPool2d(kernel_size=2, stride=2, padding=0)\n",
        "        self.conv2 = nn.Conv2d(16, 32, kernel_size=3, stride=1, padding=1)\n",
        "        self.conv3 = nn.Conv2d(32, 32, kernel_size=3, stride=1, padding=0)\n",
        "        self.fc1 = nn.Linear(1152, 512)\n",
        "        self.fc2 = nn.Linear(512, 128)\n",
        "        self.fc3 = nn.Linear(128, 10)\n",
        "\n",
        "    def forward(self, x):\n",
        "        x = self.pool(F.relu(self.conv1(x)))\n",
        "        x = self.pool(F.relu(self.conv2(x)))\n",
        "        x = F.relu(self.conv3(x))\n",
        "        x = x.view(-1, 1152)\n",
        "        x = F.relu(self.fc1(x))\n",
        "        x = F.relu(self.fc2(x))\n",
        "        x = self.fc3(x)\n",
        "        return x\n",
        "\n"
      ],
      "execution_count": 169,
      "outputs": []
    },
    {
      "cell_type": "markdown",
      "metadata": {
        "id": "_FC-AEZXXJE4"
      },
      "source": [
        "## Instantiate the CNN and print out the number of parameters"
      ]
    },
    {
      "cell_type": "code",
      "metadata": {
        "id": "ghak7OKCXXpK",
        "colab": {
          "base_uri": "https://localhost:8080/"
        },
        "outputId": "f07f2f19-0fc4-459e-f80d-67da9c4a2209"
      },
      "source": [
        "net = Net()\n",
        "print(sum([p.numel() for p in net.parameters()]))"
      ],
      "execution_count": 170,
      "outputs": [
        {
          "output_type": "stream",
          "text": [
            "671626\n"
          ],
          "name": "stdout"
        }
      ]
    },
    {
      "cell_type": "markdown",
      "metadata": {
        "id": "slDGVTtkXd-Z"
      },
      "source": [
        "## Define the loss function and the optimizer. (TODO: #2.a)\n",
        "Adam and SGD are two optimizers that are majorly used in deep learning netowrk design. Adam has a good performance in terms of good convergence speed and good accuracy.\n",
        "However, Adam in some cases has a worse validation loss than SGD, in other words, Adam though converges fast, may not converge to the optimal minimum as good as SGD does.\n",
        "\n",
        "Your task in this section is to try the Adam and SGD optimizers and find a proper LR so that you have a better performance on accuracy.\n",
        "\n",
        "Helpful link for determining a good learning rate for Adam and SGD optimizer:\n",
        "\n",
        "https://medium.com/octavian-ai/which-optimizer-and-learning-rate-should-i-use-for-deep-learning-5acb418f9b2\n",
        "\n",
        "Helpful readings on Adam and SGD: (optional)\n",
        "\n",
        "1. https://towardsdatascience.com/adam-latest-trends-in-deep-learning-optimization-6be9a291375c\n",
        "    \n",
        "2. https://shaoanlu.wordpress.com/2017/05/29/sgd-all-which-one-is-the-best-optimizer-dogs-vs-cats-toy-experiment/\n",
        "\n"
      ]
    },
    {
      "cell_type": "code",
      "metadata": {
        "id": "ml4xvTi7sgCE"
      },
      "source": [
        "import torch.optim as optim\n",
        "import torch.nn as nn\n",
        "import torch.nn.functional as F\n",
        "\n",
        "criterion = nn.CrossEntropyLoss()\n",
        "# define your optimizer and its learning rate (lr) HERE\n",
        "optimizer = optim.Adam(net.parameters(), lr=0.01)\n",
        "# optimizer = optim.SGD(net.parameters(), lr=0.01)"
      ],
      "execution_count": 171,
      "outputs": []
    },
    {
      "cell_type": "markdown",
      "metadata": {
        "id": "M9WLDB1R0CnA"
      },
      "source": [
        "## Select the device to train the CNN! \"cuda:0\" means the first GPU device."
      ]
    },
    {
      "cell_type": "code",
      "metadata": {
        "id": "W90Lsx16swAe",
        "colab": {
          "base_uri": "https://localhost:8080/"
        },
        "outputId": "5f4a8329-af3d-407f-b848-ee85d2d3b6da"
      },
      "source": [
        "device = torch.device(\"cuda:0\" if torch.cuda.is_available() else \"cpu\")\n",
        "print(device)\n",
        "net.to(device)"
      ],
      "execution_count": 172,
      "outputs": [
        {
          "output_type": "stream",
          "text": [
            "cuda:0\n"
          ],
          "name": "stdout"
        },
        {
          "output_type": "execute_result",
          "data": {
            "text/plain": [
              "Net(\n",
              "  (conv1): Conv2d(3, 16, kernel_size=(3, 3), stride=(1, 1), padding=(1, 1))\n",
              "  (pool): MaxPool2d(kernel_size=2, stride=2, padding=0, dilation=1, ceil_mode=False)\n",
              "  (conv2): Conv2d(16, 32, kernel_size=(3, 3), stride=(1, 1), padding=(1, 1))\n",
              "  (conv3): Conv2d(32, 32, kernel_size=(3, 3), stride=(1, 1))\n",
              "  (fc1): Linear(in_features=1152, out_features=512, bias=True)\n",
              "  (fc2): Linear(in_features=512, out_features=128, bias=True)\n",
              "  (fc3): Linear(in_features=128, out_features=10, bias=True)\n",
              ")"
            ]
          },
          "metadata": {
            "tags": []
          },
          "execution_count": 172
        }
      ]
    },
    {
      "cell_type": "markdown",
      "metadata": {
        "id": "La3a6S81YSWs"
      },
      "source": [
        "## Mount your google drive to current virtual machine and define the path to store the trained CNN parameters (optional)"
      ]
    },
    {
      "cell_type": "code",
      "metadata": {
        "id": "zwLWBzgOuYZW",
        "colab": {
          "base_uri": "https://localhost:8080/",
          "height": 37
        },
        "outputId": "c7f74871-06df-4594-f78e-9138807f8a0c"
      },
      "source": [
        "'''\n",
        "from google.colab import drive\n",
        "drive.mount('/content/drive')\n",
        "PATH = 'drive/My Drive/AML/mnist_net.pth'\n",
        "'''"
      ],
      "execution_count": 173,
      "outputs": [
        {
          "output_type": "execute_result",
          "data": {
            "application/vnd.google.colaboratory.intrinsic+json": {
              "type": "string"
            },
            "text/plain": [
              "\"\\nfrom google.colab import drive\\ndrive.mount('/content/drive')\\nPATH = 'drive/My Drive/AML/mnist_net.pth'\\n\""
            ]
          },
          "metadata": {
            "tags": []
          },
          "execution_count": 173
        }
      ]
    },
    {
      "cell_type": "markdown",
      "metadata": {
        "id": "8dLwz9XsYkNJ"
      },
      "source": [
        "## Train the CNN and store the best model based on the validation loss (TODO: #2.b)\n",
        "Training the neural network model too many epochs end up with high variance between training set and testing set, which also called an overfitting problem. Different strategies like L1 and L2 regularization, dropout and early stopping can be used to prevent the model from overfitting.\n",
        "\n",
        "The idea behind early stopping is that when the generalization error increases, stop training the model to prevent overfitting problem. Note that early stopping strategy in some degree is the same as L2 regularization so it's an alternative to L2 regularization. More will be discussed in the lecture.\n",
        "\n",
        "Your task in this section is to come up with a python implementation of an early stopping strategy to avoid overfitting.\n",
        "\n",
        "Helpful readings for the early stopping strategy and other techniques to prevent overfitting problems.\n",
        "\n",
        "1. https://machinelearningmastery.com/early-stopping-to-avoid-overtraining-neural-network-models/\n",
        "\n",
        "2. https://towardsdatascience.com/preventing-deep-neural-network-from-overfitting-953458db800a\n",
        "\n"
      ]
    },
    {
      "cell_type": "code",
      "metadata": {
        "id": "csCvcF7Ss1Ud",
        "colab": {
          "base_uri": "https://localhost:8080/"
        },
        "outputId": "a9f5223c-61f6-4d24-ed05-e98e3c3f20d3"
      },
      "source": [
        "import time\n",
        "from keras.callbacks import EarlyStopping \n",
        "\n",
        "# define an empty list called validation_loss that might be helpful later in the early stopping implementation\n",
        "validation_loss = []\n",
        "\n",
        "start_time = time.time()\n",
        "best_loss = np.float('inf')\n",
        "for epoch in range(10):  # loop over the dataset multiple times\n",
        "\n",
        "    running_loss = 0.0\n",
        "    for i, data in enumerate(trainloader, 0):\n",
        "        # get the inputs; data is a list of [inputs, labels]\n",
        "        inputs, labels = data[0].to(device), data[1].to(device)\n",
        "\n",
        "        # zero the parameter gradients\n",
        "        optimizer.zero_grad()\n",
        "\n",
        "        # forward + backward + optimize\n",
        "        outputs = net(inputs)\n",
        "        loss = criterion(outputs, labels)\n",
        "        loss.backward()\n",
        "        optimizer.step()\n",
        "\n",
        "        # print statistics\n",
        "        running_loss += loss.item()\n",
        "    epoch_loss = running_loss / (i+1)\n",
        "    print(\"Epoch: \", epoch, \" train loss: \", '%.3f' % epoch_loss)\n",
        "    with torch.no_grad(): \n",
        "      running_loss = 0.0\n",
        "      for i, data in enumerate(validloader, 0):\n",
        "          # get the inputs; data is a list of [inputs, labels]\n",
        "          inputs, labels = data[0].to(device), data[1].to(device)\n",
        "\n",
        "          # forward \n",
        "          outputs = net(inputs)\n",
        "          loss = criterion(outputs, labels)\n",
        "\n",
        "          # print statistics\n",
        "          running_loss += loss.item()\n",
        "      epoch_loss = running_loss / (i+1)\n",
        "\n",
        "      # add epoch_loss at each iteration to the validation_loss list which is later used in the early stopping implementation\n",
        "      validation_loss.append(epoch_loss)\n",
        "\n",
        "      print(\"Epoch: \", epoch, \" validation loss: \", '%.3f' % epoch_loss)\n",
        "      # save the best model based on validation loss\n",
        "      if epoch_loss < best_loss:\n",
        "        # torch.save(net.state_dict(), PATH)\n",
        "        best_loss = epoch_loss\n",
        "\n",
        "      # Early stopping implementation goes below: (TODO)\n",
        "      estop= EarlyStopping(monitor='validation_loss',min_delta=0.0001,mode='min',verbose=1,patience=2)\n",
        "time_elap = (time.time() - start_time) // 60\n",
        "print('Finished Training in %d mins' % time_elap)"
      ],
      "execution_count": null,
      "outputs": [
        {
          "output_type": "stream",
          "text": [
            "Epoch:  0  train loss:  1.678\n",
            "Epoch:  0  validation loss:  1.598\n",
            "Epoch:  1  train loss:  1.535\n",
            "Epoch:  1  validation loss:  1.510\n",
            "Epoch:  2  train loss:  1.423\n",
            "Epoch:  2  validation loss:  1.371\n",
            "Epoch:  3  train loss:  1.368\n",
            "Epoch:  3  validation loss:  1.336\n",
            "Epoch:  4  train loss:  1.299\n",
            "Epoch:  4  validation loss:  1.344\n"
          ],
          "name": "stdout"
        }
      ]
    },
    {
      "cell_type": "markdown",
      "metadata": {
        "id": "yfvPe-jSYsrR"
      },
      "source": [
        "## Define the test dataset"
      ]
    },
    {
      "cell_type": "code",
      "metadata": {
        "id": "UQSOIHv7yf-3"
      },
      "source": [
        "transform = transforms.Compose(\n",
        "     [transforms.ToTensor(),\n",
        "     transforms.Normalize((0.5, 0.5, 0.5), (0.5, 0.5, 0.5))])\n",
        "testset = torchvision.datasets.CIFAR10(root='./data', train=False,\n",
        "                                       download=True, transform=transform)\n",
        "testloader = torch.utils.data.DataLoader(testset, batch_size=4,\n",
        "                                         shuffle=False)"
      ],
      "execution_count": null,
      "outputs": []
    },
    {
      "cell_type": "markdown",
      "metadata": {
        "id": "4nqrJcR2Yzs5"
      },
      "source": [
        "## Visualize the test dataset"
      ]
    },
    {
      "cell_type": "code",
      "metadata": {
        "id": "TqvrOr83y2B1"
      },
      "source": [
        "import matplotlib.pyplot as plt\n",
        "import numpy as np\n",
        "\n",
        "def imshow(img):\n",
        "    img = img / 2 + 0.5     # unnormalize\n",
        "    npimg = img.numpy()\n",
        "    plt.imshow(np.transpose(npimg, (1, 2, 0)))\n",
        "    plt.show()\n",
        "    \n",
        "dataiter = iter(testloader)\n",
        "images, labels = dataiter.next()\n",
        "\n",
        "# print images\n",
        "imshow(torchvision.utils.make_grid(images))\n",
        "print('GroundTruth: ', ' '.join('%5s' % classes[labels[j]] for j in range(4)))"
      ],
      "execution_count": null,
      "outputs": []
    },
    {
      "cell_type": "markdown",
      "metadata": {
        "id": "l8DMyi8-Y4nB"
      },
      "source": [
        "## Load the learned CNN parameters. This is required when you have trained the CNN and do no want to train it again by loading the learned parameters. (optional)"
      ]
    },
    {
      "cell_type": "code",
      "metadata": {
        "id": "QTELpZUNy5yV"
      },
      "source": [
        "# net.load_state_dict(torch.load(PATH))"
      ],
      "execution_count": null,
      "outputs": []
    },
    {
      "cell_type": "markdown",
      "metadata": {
        "id": "fL7bMIiyZeFr"
      },
      "source": [
        "## Get the predictions for the first 4 images in the test dataset"
      ]
    },
    {
      "cell_type": "code",
      "metadata": {
        "id": "lQeFNxLTzBxN"
      },
      "source": [
        "with torch.no_grad():\n",
        "  outputs = net(images.to(device))\n",
        "  _, predicted = torch.max(outputs, 1)\n",
        "\n",
        "print('Predicted: ', ' '.join('%5s' % classes[predicted[j]]\n",
        "                              for j in range(4)))"
      ],
      "execution_count": null,
      "outputs": []
    },
    {
      "cell_type": "markdown",
      "metadata": {
        "id": "3r7FPw9MZoMB"
      },
      "source": [
        "## Infer on the whole test dataset"
      ]
    },
    {
      "cell_type": "code",
      "metadata": {
        "id": "F246Hc0QzLLV"
      },
      "source": [
        "testloader = torch.utils.data.DataLoader(testset, batch_size=200,\n",
        "                                         shuffle=False)\n",
        "correct = 0\n",
        "total = 0\n",
        "with torch.no_grad():\n",
        "    for data in testloader:\n",
        "        images, labels = data\n",
        "        outputs = net(images.to(device))\n",
        "        _, predicted = torch.max(outputs.data, 1)\n",
        "        total += labels.size(0)\n",
        "        correct += (predicted == labels.to(device)).sum().item()\n",
        "\n",
        "print('Accuracy of the network on the 10000 test images: %.3F %%' % (\n",
        "    100 * correct / total))"
      ],
      "execution_count": null,
      "outputs": []
    },
    {
      "cell_type": "code",
      "metadata": {
        "id": "Ti5rvQlXQThe"
      },
      "source": [
        ""
      ],
      "execution_count": null,
      "outputs": []
    }
  ]
}